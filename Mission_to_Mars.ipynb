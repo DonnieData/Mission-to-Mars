{
 "cells": [
  {
   "cell_type": "code",
   "execution_count": 1,
   "metadata": {
    "execution": {
     "iopub.execute_input": "2020-12-06T23:22:11.991125Z",
     "iopub.status.busy": "2020-12-06T23:22:11.990126Z",
     "iopub.status.idle": "2020-12-06T23:22:12.710914Z",
     "shell.execute_reply": "2020-12-06T23:22:12.709917Z",
     "shell.execute_reply.started": "2020-12-06T23:22:11.991125Z"
    }
   },
   "outputs": [],
   "source": [
    "# import dependencies \n",
    "from splinter import Browser \n",
    "from bs4 import BeautifulSoup as soup"
   ]
  },
  {
   "cell_type": "code",
   "execution_count": 4,
   "metadata": {
    "execution": {
     "iopub.execute_input": "2020-12-06T23:24:16.950567Z",
     "iopub.status.busy": "2020-12-06T23:24:16.950567Z",
     "iopub.status.idle": "2020-12-06T23:24:20.061731Z",
     "shell.execute_reply": "2020-12-06T23:24:20.061731Z",
     "shell.execute_reply.started": "2020-12-06T23:24:16.950567Z"
    }
   },
   "outputs": [],
   "source": [
    "# Set the executable path and initialize the chrome browser in splinter\n",
    "executable_path = {'executable_path':r'C:\\Users\\Donne\\.wdm\\drivers\\chromedriver\\win32\\87.0.4280.88\\chromedriver.exe'}\n",
    "browser = Browser('chrome', **executable_path)"
   ]
  },
  {
   "cell_type": "code",
   "execution_count": null,
   "metadata": {},
   "outputs": [],
   "source": [
    "# Visit the mars nasa news site\n",
    "url = 'https://mars.nasa.gov/news/'\n",
    "browser.visit(url)\n",
    "# Optional delay for loading the page ( to respect terms of service and site servers)\n",
    "browser.is_element_present_by_css(\"ul.item_list li.slide\", wait_time=1)"
   ]
  }
 ],
 "metadata": {
  "kernelspec": {
   "display_name": "PythonData",
   "language": "python",
   "name": "pythondata"
  },
  "language_info": {
   "codemirror_mode": {
    "name": "ipython",
    "version": 3
   },
   "file_extension": ".py",
   "mimetype": "text/x-python",
   "name": "python",
   "nbconvert_exporter": "python",
   "pygments_lexer": "ipython3",
   "version": "3.7.9"
  }
 },
 "nbformat": 4,
 "nbformat_minor": 4
}
