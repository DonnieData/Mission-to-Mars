{
 "cells": [
  {
   "cell_type": "code",
   "execution_count": 376,
   "metadata": {
    "execution": {
     "iopub.execute_input": "2020-12-12T02:28:18.994838Z",
     "iopub.status.busy": "2020-12-12T02:28:18.993838Z",
     "iopub.status.idle": "2020-12-12T02:28:19.026774Z",
     "shell.execute_reply": "2020-12-12T02:28:19.025776Z",
     "shell.execute_reply.started": "2020-12-12T02:28:18.994838Z"
    }
   },
   "outputs": [],
   "source": [
    "# import dependencies \n",
    "from splinter import Browser \n",
    "from bs4 import BeautifulSoup as soup\n",
    "\n",
    "import pandas as pd\n",
    "import time "
   ]
  },
  {
   "cell_type": "code",
   "execution_count": 198,
   "metadata": {
    "execution": {
     "iopub.execute_input": "2020-12-12T00:36:49.976182Z",
     "iopub.status.busy": "2020-12-12T00:36:49.975216Z",
     "iopub.status.idle": "2020-12-12T00:36:53.789358Z",
     "shell.execute_reply": "2020-12-12T00:36:53.789358Z",
     "shell.execute_reply.started": "2020-12-12T00:36:49.976182Z"
    }
   },
   "outputs": [],
   "source": [
    "# Set the executable path and initialize the chrome browser in splinter\n",
    "executable_path = {'executable_path':'chromedriver.exe'}\n",
    "browser = Browser('chrome', **executable_path)"
   ]
  },
  {
   "cell_type": "code",
   "execution_count": 380,
   "metadata": {
    "execution": {
     "iopub.execute_input": "2020-12-12T02:43:28.123617Z",
     "iopub.status.busy": "2020-12-12T02:43:28.122583Z",
     "iopub.status.idle": "2020-12-12T02:43:29.872861Z",
     "shell.execute_reply": "2020-12-12T02:43:29.870871Z",
     "shell.execute_reply.started": "2020-12-12T02:43:28.123617Z"
    }
   },
   "outputs": [
    {
     "data": {
      "text/plain": [
       "4"
      ]
     },
     "execution_count": 380,
     "metadata": {},
     "output_type": "execute_result"
    },
    {
     "data": {
      "text/plain": [
       "<div class=\"description\"><a class=\"itemLink product-item\" href=\"/search/map/Mars/Viking/cerberus_enhanced\"><h3>Cerberus Hemisphere Enhanced</h3></a><span class=\"subtitle\" style=\"float:left\">image/tiff 21 MB</span><span class=\"pubDate\" style=\"float:right\"></span><br/><p>Mosaic of the Cerberus hemisphere of Mars projected into point perspective, a view similar to that which one would see from a spacecraft. This mosaic is composed of 104 Viking Orbiter images acquired…</p></div>"
      ]
     },
     "execution_count": 380,
     "metadata": {},
     "output_type": "execute_result"
    }
   ],
   "source": [
    "# visit site\n",
    "url = 'https://astrogeology.usgs.gov/search/results?q=hemisphere+enhanced&k1=target&v1=Mars'\n",
    "browser.visit(url)\n",
    "\n",
    "# parse site\n",
    "html = browser.html\n",
    "html_soup = soup(html, 'html.parser')\n",
    "\n",
    "# drill down with html tags that contain desired data \n",
    "mars_info_container = html_soup.select('div.description')\n",
    "len(mars_info_container)\n",
    "mars_info_container[0]"
   ]
  },
  {
   "cell_type": "code",
   "execution_count": 397,
   "metadata": {
    "execution": {
     "iopub.execute_input": "2020-12-12T03:00:43.100696Z",
     "iopub.status.busy": "2020-12-12T03:00:43.100696Z",
     "iopub.status.idle": "2020-12-12T03:00:43.108677Z",
     "shell.execute_reply": "2020-12-12T03:00:43.107677Z",
     "shell.execute_reply.started": "2020-12-12T03:00:43.100696Z"
    }
   },
   "outputs": [
    {
     "data": {
      "text/plain": [
       "<a class=\"itemLink product-item\" href=\"/search/map/Mars/Viking/schiaparelli_enhanced\"><h3>Schiaparelli Hemisphere Enhanced</h3></a>"
      ]
     },
     "execution_count": 397,
     "metadata": {},
     "output_type": "execute_result"
    }
   ],
   "source": [
    "mars_info_container[1].find('a')"
   ]
  },
  {
   "cell_type": "code",
   "execution_count": 398,
   "metadata": {
    "execution": {
     "iopub.execute_input": "2020-12-12T03:01:33.986140Z",
     "iopub.status.busy": "2020-12-12T03:01:33.986140Z",
     "iopub.status.idle": "2020-12-12T03:01:33.991127Z",
     "shell.execute_reply": "2020-12-12T03:01:33.990128Z",
     "shell.execute_reply.started": "2020-12-12T03:01:33.986140Z"
    }
   },
   "outputs": [],
   "source": [
    "hemispheres_info = []\n",
    "base_url = 'https://astrogeology.usgs.gov'"
   ]
  },
  {
   "cell_type": "code",
   "execution_count": 399,
   "metadata": {
    "execution": {
     "iopub.execute_input": "2020-12-12T03:01:43.131345Z",
     "iopub.status.busy": "2020-12-12T03:01:43.131345Z",
     "iopub.status.idle": "2020-12-12T03:01:46.153754Z",
     "shell.execute_reply": "2020-12-12T03:01:46.153754Z",
     "shell.execute_reply.started": "2020-12-12T03:01:43.131345Z"
    }
   },
   "outputs": [],
   "source": [
    "# loop through scraped data, scrape additonal data and format \n",
    "for i in list(range(len(mars_info_container))):\n",
    "    # parse extracted data and retrieve article header \n",
    "    header = mars_info_container[i].find('h3').get_text()\n",
    "    \n",
    "    # retrieve embedded parital url and convert to full webpage link\n",
    "    article_partial_url = mars_info_container[i].find('a').get('href')\n",
    "    article_full_url = f'{base_url}{article_partial_url}'\n",
    "    \n",
    "    # visit article site \n",
    "    browser.visit(article_full_url)\n",
    "    html = browser.html\n",
    "    #parse page \n",
    "    image_parse = soup(html, 'html.parser')\n",
    "    \n",
    "    #retreive full-resolution image image url via tags\n",
    "    image_url = image_parse.select_one('ul li a').get('href')\n",
    "    \n",
    "    #format data into dictionary \n",
    "    hemispheres_info.append({'img_url':image_url,'title':header})\n",
    "    time.sleep(.05)"
   ]
  },
  {
   "cell_type": "code",
   "execution_count": 400,
   "metadata": {
    "execution": {
     "iopub.execute_input": "2020-12-12T03:02:01.062839Z",
     "iopub.status.busy": "2020-12-12T03:02:01.062839Z",
     "iopub.status.idle": "2020-12-12T03:02:01.070818Z",
     "shell.execute_reply": "2020-12-12T03:02:01.069821Z",
     "shell.execute_reply.started": "2020-12-12T03:02:01.062839Z"
    }
   },
   "outputs": [
    {
     "data": {
      "text/plain": [
       "[{'img_url': 'https://astropedia.astrogeology.usgs.gov/download/Mars/Viking/cerberus_enhanced.tif/full.jpg',\n",
       "  'title': 'Cerberus Hemisphere Enhanced'},\n",
       " {'img_url': 'https://astropedia.astrogeology.usgs.gov/download/Mars/Viking/schiaparelli_enhanced.tif/full.jpg',\n",
       "  'title': 'Schiaparelli Hemisphere Enhanced'},\n",
       " {'img_url': 'https://astropedia.astrogeology.usgs.gov/download/Mars/Viking/syrtis_major_enhanced.tif/full.jpg',\n",
       "  'title': 'Syrtis Major Hemisphere Enhanced'},\n",
       " {'img_url': 'https://astropedia.astrogeology.usgs.gov/download/Mars/Viking/valles_marineris_enhanced.tif/full.jpg',\n",
       "  'title': 'Valles Marineris Hemisphere Enhanced'}]"
      ]
     },
     "execution_count": 400,
     "metadata": {},
     "output_type": "execute_result"
    }
   ],
   "source": [
    "# review \n",
    "hemispheres_info"
   ]
  },
  {
   "cell_type": "code",
   "execution_count": null,
   "metadata": {},
   "outputs": [],
   "source": [
    "# close scraping application \n",
    "browser.quit()"
   ]
  },
  {
   "cell_type": "markdown",
   "metadata": {},
   "source": [
    "-----"
   ]
  },
  {
   "cell_type": "code",
   "execution_count": null,
   "metadata": {},
   "outputs": [],
   "source": []
  },
  {
   "cell_type": "code",
   "execution_count": null,
   "metadata": {},
   "outputs": [],
   "source": []
  },
  {
   "cell_type": "code",
   "execution_count": null,
   "metadata": {},
   "outputs": [],
   "source": []
  }
 ],
 "metadata": {
  "kernelspec": {
   "display_name": "PythonData",
   "language": "python",
   "name": "pythondata"
  },
  "language_info": {
   "codemirror_mode": {
    "name": "ipython",
    "version": 3
   },
   "file_extension": ".py",
   "mimetype": "text/x-python",
   "name": "python",
   "nbconvert_exporter": "python",
   "pygments_lexer": "ipython3",
   "version": "3.7.9"
  }
 },
 "nbformat": 4,
 "nbformat_minor": 4
}
