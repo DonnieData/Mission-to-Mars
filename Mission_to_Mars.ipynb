{
 "cells": [
  {
   "cell_type": "code",
   "execution_count": 1,
   "metadata": {
    "execution": {
     "iopub.execute_input": "2020-12-09T16:34:56.600866Z",
     "iopub.status.busy": "2020-12-09T16:34:56.599868Z",
     "iopub.status.idle": "2020-12-09T16:34:57.128637Z",
     "shell.execute_reply": "2020-12-09T16:34:57.128637Z",
     "shell.execute_reply.started": "2020-12-09T16:34:56.600866Z"
    }
   },
   "outputs": [],
   "source": [
    "# import dependencies \n",
    "from splinter import Browser \n",
    "from bs4 import BeautifulSoup as soup"
   ]
  },
  {
   "cell_type": "code",
   "execution_count": 2,
   "metadata": {
    "execution": {
     "iopub.execute_input": "2020-12-09T16:35:03.497548Z",
     "iopub.status.busy": "2020-12-09T16:35:03.497548Z",
     "iopub.status.idle": "2020-12-09T16:35:06.532379Z",
     "shell.execute_reply": "2020-12-09T16:35:06.532379Z",
     "shell.execute_reply.started": "2020-12-09T16:35:03.497548Z"
    }
   },
   "outputs": [],
   "source": [
    "# Set the executable path and initialize the chrome browser in splinter\n",
    "executable_path = {'executable_path':'chromedriver.exe'}\n",
    "browser = Browser('chrome', **executable_path)"
   ]
  },
  {
   "cell_type": "code",
   "execution_count": 3,
   "metadata": {
    "execution": {
     "iopub.execute_input": "2020-12-09T16:35:07.491054Z",
     "iopub.status.busy": "2020-12-09T16:35:07.491054Z",
     "iopub.status.idle": "2020-12-09T16:35:09.879358Z",
     "shell.execute_reply": "2020-12-09T16:35:09.879358Z",
     "shell.execute_reply.started": "2020-12-09T16:35:07.491054Z"
    }
   },
   "outputs": [
    {
     "data": {
      "text/plain": [
       "True"
      ]
     },
     "execution_count": 3,
     "metadata": {},
     "output_type": "execute_result"
    }
   ],
   "source": [
    "# Visit the mars nasa news site\n",
    "# tell splinter to  visit the qoutes to scrape site \n",
    "url = 'https://mars.nasa.gov/news/'\n",
    "browser.visit(url)\n",
    "# Optional delay for loading the page ( to respect terms of service and site servers)\n",
    "# searching for specific combination of tags and attributes ex -- ul.item_list\n",
    "browser.is_element_present_by_css(\"ul.item_list li.slide\", wait_time=1)"
   ]
  },
  {
   "cell_type": "code",
   "execution_count": 4,
   "metadata": {
    "execution": {
     "iopub.execute_input": "2020-12-09T16:35:09.890328Z",
     "iopub.status.busy": "2020-12-09T16:35:09.889336Z",
     "iopub.status.idle": "2020-12-09T16:35:10.175085Z",
     "shell.execute_reply": "2020-12-09T16:35:10.175085Z",
     "shell.execute_reply.started": "2020-12-09T16:35:09.890328Z"
    }
   },
   "outputs": [],
   "source": [
    "# html parser \n",
    "# parse all of the html of the page with beautiful soup\n",
    "html = browser.html\n",
    "news_soup = soup(html, 'html.parser')\n",
    "# \".\"\" is used for selecting classes, pinpoints the <li /> tag with the class of slide and the <ul /> tag with a class of item_list.\n",
    "# will select last item \n",
    "slide_elem = news_soup.select_one('ul.item_list li.slide')"
   ]
  },
  {
   "cell_type": "code",
   "execution_count": 5,
   "metadata": {
    "execution": {
     "iopub.execute_input": "2020-12-09T16:35:10.176082Z",
     "iopub.status.busy": "2020-12-09T16:35:10.176082Z",
     "iopub.status.idle": "2020-12-09T16:35:10.183064Z",
     "shell.execute_reply": "2020-12-09T16:35:10.182068Z",
     "shell.execute_reply.started": "2020-12-09T16:35:10.176082Z"
    }
   },
   "outputs": [
    {
     "data": {
      "text/plain": [
       "<div class=\"content_title\"><a href=\"/news/8812/5-hidden-gems-are-riding-aboard-nasas-perseverance-rover/\" target=\"_self\">5 Hidden Gems Are Riding Aboard NASA's Perseverance Rover</a></div>"
      ]
     },
     "execution_count": 5,
     "metadata": {},
     "output_type": "execute_result"
    }
   ],
   "source": [
    "# look inside of slide_elem for data within div tag that hass cotent_title as class\n",
    "slide_elem.find(\"div\", class_='content_title')"
   ]
  },
  {
   "cell_type": "code",
   "execution_count": 6,
   "metadata": {
    "execution": {
     "iopub.execute_input": "2020-12-09T16:35:10.238917Z",
     "iopub.status.busy": "2020-12-09T16:35:10.237924Z",
     "iopub.status.idle": "2020-12-09T16:35:10.247891Z",
     "shell.execute_reply": "2020-12-09T16:35:10.245896Z",
     "shell.execute_reply.started": "2020-12-09T16:35:10.238917Z"
    }
   },
   "outputs": [
    {
     "data": {
      "text/plain": [
       "\"5 Hidden Gems Are Riding Aboard NASA's Perseverance Rover\""
      ]
     },
     "execution_count": 6,
     "metadata": {},
     "output_type": "execute_result"
    }
   ],
   "source": [
    "# Use the parent element to find the first `a` tag and save it as `news_title`\n",
    "news_title = slide_elem.find(\"div\", class_='content_title').get_text()\n",
    "news_title"
   ]
  },
  {
   "cell_type": "code",
   "execution_count": 7,
   "metadata": {
    "execution": {
     "iopub.execute_input": "2020-12-09T16:35:10.988947Z",
     "iopub.status.busy": "2020-12-09T16:35:10.988947Z",
     "iopub.status.idle": "2020-12-09T16:35:10.993900Z",
     "shell.execute_reply": "2020-12-09T16:35:10.993900Z",
     "shell.execute_reply.started": "2020-12-09T16:35:10.988947Z"
    }
   },
   "outputs": [
    {
     "data": {
      "text/plain": [
       "\"The symbols, mottos, and small objects added to the agency's newest Mars rover serve a variety of purposes, from functional to decorative.\""
      ]
     },
     "execution_count": 7,
     "metadata": {},
     "output_type": "execute_result"
    }
   ],
   "source": [
    "# Use the parent element to find the paragraph text\n",
    "news_p = slide_elem.find('div', class_=\"article_teaser_body\").get_text()\n",
    "news_p"
   ]
  },
  {
   "cell_type": "markdown",
   "metadata": {},
   "source": [
    "### Featured Images"
   ]
  },
  {
   "cell_type": "code",
   "execution_count": 14,
   "metadata": {
    "execution": {
     "iopub.execute_input": "2020-12-09T18:13:56.870287Z",
     "iopub.status.busy": "2020-12-09T18:13:56.870287Z",
     "iopub.status.idle": "2020-12-09T18:13:58.808172Z",
     "shell.execute_reply": "2020-12-09T18:13:58.807172Z",
     "shell.execute_reply.started": "2020-12-09T18:13:56.870287Z"
    }
   },
   "outputs": [
    {
     "data": {
      "text/plain": [
       "True"
      ]
     },
     "execution_count": 14,
     "metadata": {},
     "output_type": "execute_result"
    },
    {
     "data": {
      "text/plain": [
       "'/spaceimages/images/largesize/PIA18358_hires.jpg'"
      ]
     },
     "execution_count": 14,
     "metadata": {},
     "output_type": "execute_result"
    }
   ],
   "source": [
    "# Visit the webpage.\n",
    "url = 'https://www.jpl.nasa.gov/spaceimages/?search=&category=Mars'\n",
    "browser.visit(url)\n",
    "\n",
    "# # Find and click the \"full image\" button # using the unique \"id=full_image\"\n",
    "full_image_elem = browser.find_by_id('full_image')\n",
    "full_image_elem.click()\n",
    "\n",
    "# Find the \"more info\" button and click \n",
    "# button doesnt have any unique identifiers ( eg. class or id), so searching for it by text\n",
    "# checks if element is present and returns bool \n",
    "browser.is_element_not_present_by_text('more info', wait_time=1)\n",
    "more_info_elem = browser.links.find_by_partial_text('more info')\n",
    "more_info_elem.click()\n",
    "\n",
    "# Parse the resulting html with soup \n",
    "html = browser.html\n",
    "img_soup = soup(html,'html.parser')\n",
    "\n",
    "# pull the most recent image via tags and not direct image link (so that we get the updated image every time and not the specified same image)\n",
    "# Find the relative image url\n",
    "#Note src link is in double qoutes(\"\") and not single('')\n",
    "\n",
    "img_url_rel = img_soup.select_one('figure.lede a img').get(\"src\")\n",
    "img_url_rel"
   ]
  },
  {
   "cell_type": "code",
   "execution_count": 18,
   "metadata": {
    "execution": {
     "iopub.execute_input": "2020-12-09T18:21:53.485903Z",
     "iopub.status.busy": "2020-12-09T18:21:53.485903Z",
     "iopub.status.idle": "2020-12-09T18:21:53.490889Z",
     "shell.execute_reply": "2020-12-09T18:21:53.490889Z",
     "shell.execute_reply.started": "2020-12-09T18:21:53.485903Z"
    }
   },
   "outputs": [
    {
     "data": {
      "text/plain": [
       "'https://www.jpl.nasa.gov/spaceimages/images/largesize/PIA18358_hires.jpg'"
      ]
     },
     "execution_count": 18,
     "metadata": {},
     "output_type": "execute_result"
    }
   ],
   "source": [
    "# image only uses partial link, which is its location within the site. to get full link simply append partial onto base link of site \n",
    "base_url = 'https://www.jpl.nasa.gov'\n",
    "img_url = f'{base_url}{img_url_rel}'\n",
    "img_url"
   ]
  },
  {
   "cell_type": "code",
   "execution_count": null,
   "metadata": {},
   "outputs": [],
   "source": []
  }
 ],
 "metadata": {
  "kernelspec": {
   "display_name": "PythonData",
   "language": "python",
   "name": "pythondata"
  },
  "language_info": {
   "codemirror_mode": {
    "name": "ipython",
    "version": 3
   },
   "file_extension": ".py",
   "mimetype": "text/x-python",
   "name": "python",
   "nbconvert_exporter": "python",
   "pygments_lexer": "ipython3",
   "version": "3.7.9"
  }
 },
 "nbformat": 4,
 "nbformat_minor": 4
}
